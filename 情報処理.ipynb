{
  "cells": [
    {
      "cell_type": "code",
      "execution_count": 1,
      "metadata": {
        "colab": {
          "base_uri": "https://localhost:8080/"
        },
        "id": "RhlbHb8KG-G1",
        "outputId": "f347f9e4-3f16-492f-c9f5-c746d81998ad"
      },
      "outputs": [
        {
          "output_type": "stream",
          "name": "stdout",
          "text": [
            "整数を入力してください5\n",
            "◎●●●●●\n",
            "◎◎●●●●\n",
            "◎◎◎●●●\n",
            "◎◎◎◎●●\n",
            "◎◎◎◎◎●\n"
          ]
        }
      ],
      "source": [
        "#1\n",
        "\n",
        "ball = int(input(\"整数を入力してください\"))\n",
        "\n",
        "for i in range(ball):\n",
        "    for j in range(ball+1):\n",
        "        if(j <= i):\n",
        "            print(\"◎\", end=\"\")\n",
        "        else:\n",
        "            print(\"●\", end=\"\")\n",
        "    print()\n"
      ]
    },
    {
      "cell_type": "code",
      "execution_count": 2,
      "metadata": {
        "colab": {
          "base_uri": "https://localhost:8080/"
        },
        "id": "ty9L2S9EG-G5",
        "outputId": "aa5c9760-8092-467d-8959-3956425195ea"
      },
      "outputs": [
        {
          "output_type": "stream",
          "name": "stdout",
          "text": [
            "1人目の体重を入力してください60\n",
            "1人目の身長を入力してください170\n",
            "1人目:普通\n",
            "2人目の体重を入力してください70\n",
            "2人目の身長を入力してください170\n",
            "2人目:普通\n",
            "3人目の体重を入力してください50\n",
            "3人目の身長を入力してください170\n",
            "3人目:普通\n",
            "4人目の体重を入力してください80\n",
            "4人目の身長を入力してください170\n",
            "4人目:やや太い\n",
            "5人目の体重を入力してください90\n",
            "5人目の身長を入力してください170\n",
            "5人目:やや太い\n",
            "6人目の体重を入力してください40\n",
            "6人目の身長を入力してください170\n",
            "6人目:やや細い\n",
            "7人目の体重を入力してください-1\n",
            "身長の最小値は170です\n",
            "身長の最大値は170です\n",
            "身長の平均値は170.0です\n",
            "身長の分散は0.0です\n",
            "体重の最小値は40です\n",
            "体重の最大値は90です\n",
            "体重の平均値は65.0です\n",
            "体重の分散は291.7です\n"
          ]
        }
      ],
      "source": [
        "#2-1\n",
        "member_weight = []\n",
        "member_height = []\n",
        "\n",
        "count = 0\n",
        "while True:\n",
        "    count += 1\n",
        "    weight = int(input(\"{:d}人目の体重を入力してください\".format(count)))\n",
        "    if(weight == -1):\n",
        "        break\n",
        "    height = int(input(\"{:d}人目の身長を入力してください\".format(count)))\n",
        "    shape = weight - (height - 110)\n",
        "    if shape < -10:\n",
        "        print(\"{:d}人目:やや細い\".format(count))\n",
        "    elif shape > 10:\n",
        "        print(\"{:d}人目:やや太い\".format(count))\n",
        "    else:\n",
        "        print(\"{:d}人目:普通\".format(count))\n",
        "    member_height.append(height)\n",
        "    member_weight.append(weight)\n",
        "\n",
        "print(\"身長の最小値は{:d}です\".format(min(member_height)))\n",
        "print(\"身長の最大値は{:d}です\".format(max(member_height)))\n",
        "print(\"身長の平均値は{:.1f}です\".format(sum(member_height)/len(member_height)))\n",
        "print(\"身長の分散は{:.1f}です\".format(sum([(i - sum(member_height)/len(member_height))**2 for i in member_height])/len(member_height)))\n",
        "print(\"体重の最小値は{:d}です\".format(min(member_weight)))\n",
        "print(\"体重の最大値は{:d}です\".format(max(member_weight)))\n",
        "print(\"体重の平均値は{:.1f}です\".format(sum(member_weight)/len(member_weight)))\n",
        "print(\"体重の分散は{:.1f}です\".format(sum([(i - sum(member_weight)/len(member_weight))**2 for i in member_weight])/len(member_weight)))\n",
        "\n",
        "\n",
        "\n"
      ]
    },
    {
      "cell_type": "code",
      "execution_count": 3,
      "metadata": {
        "colab": {
          "base_uri": "https://localhost:8080/"
        },
        "id": "Gpny0Jn_G-G6",
        "outputId": "0b0312bf-be73-422e-932e-617cb56c2492"
      },
      "outputs": [
        {
          "output_type": "stream",
          "name": "stdout",
          "text": [
            "10枚印刷できます\n"
          ]
        }
      ],
      "source": [
        "#3\n",
        "a4_height = 297\n",
        "a4_width = 210\n",
        "\n",
        "card_height = 55\n",
        "card_width = 91\n",
        "\n",
        "num_of_cards_vertical = int(a4_height / card_height)\n",
        "\n",
        "num_of_cards_horizontal = int(a4_width / card_width)\n",
        "\n",
        "max_num_of_cards = num_of_cards_vertical * num_of_cards_horizontal\n",
        "\n",
        "print(\"{:d}枚印刷できます\".format(max_num_of_cards))\n"
      ]
    },
    {
      "cell_type": "code",
      "execution_count": 4,
      "metadata": {
        "colab": {
          "base_uri": "https://localhost:8080/"
        },
        "id": "YTtKKUz8G-G6",
        "outputId": "1e1f1b2b-3d27-435d-9e37-a8eb1a67aa8d"
      },
      "outputs": [
        {
          "output_type": "stream",
          "name": "stdout",
          "text": [
            "single: [[6.123233995736766e-17, -1.0], [1.0, 6.123233995736766e-17]]\n",
            "Double: [[-1.0, -1.2246467991473532e-16], [1.2246467991473532e-16, -1.0]]\n",
            "double: [[-1.0, -1.2246467991473532e-16], [1.2246467991473532e-16, -1.0]]\n"
          ]
        }
      ],
      "source": [
        "#4-1\n",
        "\n",
        "import math\n",
        "angle = 90\n",
        "\n",
        "\n",
        "rotation_math = [[math.cos(math.radians(angle)), -math.sin(math.radians(angle))], [math.sin(math.radians(angle)), math.cos(math.radians(angle))]]\n",
        "print(\"single:\", rotation_math)\n",
        "\n",
        "Double = [[0 for j in range(len(rotation_math[0]))] for i in range(len(rotation_math))]\n",
        "for i in range(len(rotation_math)):\n",
        "    for j in range(len(rotation_math[0])):\n",
        "        for k in range(len(rotation_math[0])):\n",
        "            Double[i][j] += rotation_math[i][k] * rotation_math[k][j]\n",
        "print(\"Double:\", Double)\n",
        "\n",
        "double = [[math.cos(math.radians(angle*2)), -math.sin(math.radians(angle*2))], [math.sin(math.radians(angle*2)), math.cos(math.radians(angle*2))]]\n",
        "\n",
        "print(\"double:\", double)\n",
        "\n"
      ]
    },
    {
      "cell_type": "code",
      "execution_count": 5,
      "metadata": {
        "colab": {
          "base_uri": "https://localhost:8080/"
        },
        "id": "Tta2X8MTG-G6",
        "outputId": "900ca099-d43f-4e78-e432-dcee07609b6a"
      },
      "outputs": [
        {
          "output_type": "stream",
          "name": "stdout",
          "text": [
            "Quad: [[1.0, 2.4492935982947064e-16], [-2.4492935982947064e-16, 1.0]]\n",
            "quad: [[1.0, 2.4492935982947064e-16], [-2.4492935982947064e-16, 1.0]]\n"
          ]
        }
      ],
      "source": [
        "#4-2\n",
        "import math\n",
        "angle = 90\n",
        "\n",
        "\n",
        "rotation_math = [[math.cos(math.radians(angle)), -math.sin(math.radians(angle))], [math.sin(math.radians(angle)), math.cos(math.radians(angle))]]\n",
        "\n",
        "Double = [[0 for j in range(len(rotation_math[0]))] for i in range(len(rotation_math))]\n",
        "for i in range(len(rotation_math)):\n",
        "    for j in range(len(rotation_math[0])):\n",
        "        for k in range(len(rotation_math[0])):\n",
        "            Double[i][j] += rotation_math[i][k] * rotation_math[k][j]\n",
        "\n",
        "Quad = [[0 for j in range(len(Double[0]))] for i in range(len(Double))]\n",
        "for i in range(len(Double)):\n",
        "    for j in range(len(Double[0])):\n",
        "        for k in range(len(Double[0])):\n",
        "            Quad[i][j] += Double[i][k] * Double[k][j]\n",
        "print(\"Quad:\", Quad)\n",
        "\n",
        "quad = [[math.cos(math.radians(angle*4)), -math.sin(math.radians(angle*4))], [math.sin(math.radians(angle*4)), math.cos(math.radians(angle*4))]]\n",
        "print(\"quad:\", quad)\n"
      ]
    }
  ],
  "metadata": {
    "kernelspec": {
      "display_name": "Python 3",
      "language": "python",
      "name": "python3"
    },
    "language_info": {
      "codemirror_mode": {
        "name": "ipython",
        "version": 3
      },
      "file_extension": ".py",
      "mimetype": "text/x-python",
      "name": "python",
      "nbconvert_exporter": "python",
      "pygments_lexer": "ipython3",
      "version": "3.11.2"
    },
    "orig_nbformat": 4,
    "colab": {
      "provenance": []
    }
  },
  "nbformat": 4,
  "nbformat_minor": 0
}