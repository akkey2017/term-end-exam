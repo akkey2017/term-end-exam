{
  "cells": [
    {
      "cell_type": "code",
      "execution_count": 1,
      "metadata": {
        "colab": {
          "base_uri": "https://localhost:8080/"
        },
        "id": "RhlbHb8KG-G1",
        "outputId": "f347f9e4-3f16-492f-c9f5-c746d81998ad"
      },
      "outputs": [
        {
          "output_type": "stream",
          "name": "stdout",
          "text": [
            "整数を入力してください5\n",
            "◎●●●●●\n",
            "◎◎●●●●\n",
            "◎◎◎●●●\n",
            "◎◎◎◎●●\n",
            "◎◎◎◎◎●\n"
          ]
        }
      ],
      "source": [
        "#1\n",
        "\n",
        "ball = int(input(\"整数を入力してください\"))\n",
        "#問題文をあんまり理解できていない\n",
        "\n",
        "for i in range(ball):\n",
        "    for j in range(ball+1):#解答例に合わせて数調整\n",
        "        if(j <= i):\n",
        "            print(\"◎\", end=\"\")#jがiを越えるまでは二重丸を出力\n",
        "        else:\n",
        "            print(\"●\", end=\"\")\n",
        "    print()#黒丸を出力し終わったら1行下げる\n"
      ]
    },
    {
      "cell_type": "code",
      "execution_count": 9,
      "metadata": {
        "colab": {
          "base_uri": "https://localhost:8080/"
        },
        "id": "ty9L2S9EG-G5",
        "outputId": "cef34b34-4aa1-447d-f4f9-b3aec084f1ee"
      },
      "outputs": [
        {
          "output_type": "stream",
          "name": "stdout",
          "text": [
            "1人目の体重を入力してください60\n",
            "1人目の身長を入力してください170\n",
            "1人目:普通\n",
            "2人目の体重を入力してください60\n",
            "2人目の身長を入力してください190\n",
            "2人目:やや細い\n",
            "3人目の体重を入力してください60\n",
            "3人目の身長を入力してください180\n",
            "3人目:普通\n",
            "4人目の体重を入力してください60\n",
            "4人目の身長を入力してください150\n",
            "4人目:やや太い\n",
            "5人目の体重を入力してください60\n",
            "5人目の身長を入力してください160\n",
            "5人目:普通\n",
            "6人目の体重を入力してください60\n",
            "6人目の身長を入力してください140\n",
            "6人目:やや太い\n",
            "7人目の体重を入力してください-1\n",
            "身長の最小値は140です\n",
            "身長の最大値は190です\n",
            "体重の最小値は60です\n",
            "体重の最大値は60です\n",
            "身長の平均値は165.0です\n",
            "身長の分散は291.7です\n",
            "体重の平均値は60.0です\n",
            "体重の分散は0.0です\n"
          ]
        }
      ],
      "source": [
        "#2-1\n",
        "member_weight = []\n",
        "member_height = []\n",
        "#身長体重を格納する配列\n",
        "\n",
        "count = 0#人数をわかりやすくするためのカウント\n",
        "while True:\n",
        "    count += 1\n",
        "    weight = int(input(\"{:d}人目の体重を入力してください\".format(count)))\n",
        "    if(weight == -1):#-1が入力されたら終了\n",
        "        break\n",
        "    height = int(input(\"{:d}人目の身長を入力してください\".format(count)))\n",
        "    shape = weight - (height - 110)#体系を求める\n",
        "    if shape < -10:\n",
        "        print(\"{:d}人目:やや細い\".format(count))\n",
        "    elif shape > 10:\n",
        "        print(\"{:d}人目:やや太い\".format(count))\n",
        "    else:\n",
        "        print(\"{:d}人目:普通\".format(count))\n",
        "    #一番最初に設定した配列に身長体重をそれぞれ格納\n",
        "    member_height.append(height)\n",
        "    member_weight.append(weight)\n",
        "\n",
        "\n",
        "###-----------想定解(のはず)----------###\n",
        "print(\"身長の最小値は{:d}です\".format(min(member_height)))\n",
        "print(\"身長の最大値は{:d}です\".format(max(member_height)))\n",
        "print(\"体重の最小値は{:d}です\".format(min(member_weight)))\n",
        "print(\"体重の最大値は{:d}です\".format(max(member_weight)))\n",
        "#それぞれ最小最大を求める\n",
        "\n",
        "\n",
        "all_height = 0\n",
        "for i in member_height:\n",
        "  all_height += i#全員分の身長を足す\n",
        "ave_height = all_height/len(member_height)#人数で割る\n",
        "print(\"身長の平均値は{:.1f}です\".format(ave_height))\n",
        "\n",
        "all_v_height = 0\n",
        "for i in member_height:\n",
        "  all_v_height += i**2 - ave_height**2#分散を求める式\n",
        "V_height = all_v_height/len(member_height)\n",
        "print(\"身長の分散は{:.1f}です\".format(V_height))\n",
        "\n",
        "#上と同じ\n",
        "all_weight = 0\n",
        "for i in member_weight:\n",
        "  all_weight += i\n",
        "ave_weight = all_weight/len(member_weight)\n",
        "print(\"体重の平均値は{:.1f}です\".format(ave_weight))\n",
        "\n",
        "all_v_weight = 0\n",
        "for i in member_weight:\n",
        "  all_v_weight += i**2 - ave_weight**2\n",
        "V_weight = all_v_weight/len(member_weight)\n",
        "print(\"体重の分散は{:.1f}です\".format(V_weight))\n",
        "\n",
        "\n",
        "\n",
        "\n",
        "###-----------多分想定解じゃない-----------####\n",
        "#print(\"身長の最小値は{:d}です\".format(min(member_height)))\n",
        "#print(\"身長の最大値は{:d}です\".format(max(member_height)))\n",
        "#print(\"身長の平均値は{:.1f}です\".format(sum(member_height)/len(member_height)))\n",
        "#print(\"身長の分散は{:.1f}です\".format(sum([(i - sum(member_height)/len(member_height))**2 for i in member_height])/len(member_height)))\n",
        "#print(\"体重の最小値は{:d}です\".format(min(member_weight)))\n",
        "#print(\"体重の最大値は{:d}です\".format(max(member_weight)))\n",
        "#print(\"体重の平均値は{:.1f}です\".format(sum(member_weight)/len(member_weight)))\n",
        "#print(\"体重の分散は{:.1f}です\".format(sum([(i - sum(member_weight)/len(member_weight))**2 for i in member_weight])/len(member_weight)))\n",
        "\n",
        "\n",
        "\n"
      ]
    },
    {
      "cell_type": "code",
      "execution_count": 3,
      "metadata": {
        "colab": {
          "base_uri": "https://localhost:8080/"
        },
        "id": "Gpny0Jn_G-G6",
        "outputId": "0b0312bf-be73-422e-932e-617cb56c2492"
      },
      "outputs": [
        {
          "output_type": "stream",
          "name": "stdout",
          "text": [
            "10枚印刷できます\n"
          ]
        }
      ],
      "source": [
        "#3\n",
        "a4_height = 297\n",
        "a4_width = 210\n",
        "\n",
        "card_height = 55\n",
        "card_width = 91\n",
        "\n",
        "num_of_cards_vertical = int(a4_height / card_height)\n",
        "\n",
        "num_of_cards_horizontal = int(a4_width / card_width)\n",
        "\n",
        "max_num_of_cards = num_of_cards_vertical * num_of_cards_horizontal\n",
        "\n",
        "print(\"{:d}枚印刷できます\".format(max_num_of_cards))\n"
      ]
    },
    {
      "cell_type": "code",
      "execution_count": 4,
      "metadata": {
        "colab": {
          "base_uri": "https://localhost:8080/"
        },
        "id": "YTtKKUz8G-G6",
        "outputId": "1e1f1b2b-3d27-435d-9e37-a8eb1a67aa8d"
      },
      "outputs": [
        {
          "output_type": "stream",
          "name": "stdout",
          "text": [
            "single: [[6.123233995736766e-17, -1.0], [1.0, 6.123233995736766e-17]]\n",
            "Double: [[-1.0, -1.2246467991473532e-16], [1.2246467991473532e-16, -1.0]]\n",
            "double: [[-1.0, -1.2246467991473532e-16], [1.2246467991473532e-16, -1.0]]\n"
          ]
        }
      ],
      "source": [
        "#4-1\n",
        "\n",
        "import math\n",
        "angle = 90\n",
        "\n",
        "\n",
        "rotation_math = [[math.cos(math.radians(angle)), -math.sin(math.radians(angle))], [math.sin(math.radians(angle)), math.cos(math.radians(angle))]]\n",
        "print(\"single:\", rotation_math)\n",
        "\n",
        "Double = [[0 for j in range(len(rotation_math[0]))] for i in range(len(rotation_math))]\n",
        "for i in range(len(rotation_math)):\n",
        "    for j in range(len(rotation_math[0])):\n",
        "        for k in range(len(rotation_math[0])):\n",
        "            Double[i][j] += rotation_math[i][k] * rotation_math[k][j]\n",
        "print(\"Double:\", Double)\n",
        "\n",
        "double = [[math.cos(math.radians(angle*2)), -math.sin(math.radians(angle*2))], [math.sin(math.radians(angle*2)), math.cos(math.radians(angle*2))]]\n",
        "\n",
        "print(\"double:\", double)\n",
        "\n"
      ]
    },
    {
      "cell_type": "code",
      "execution_count": 5,
      "metadata": {
        "colab": {
          "base_uri": "https://localhost:8080/"
        },
        "id": "Tta2X8MTG-G6",
        "outputId": "900ca099-d43f-4e78-e432-dcee07609b6a"
      },
      "outputs": [
        {
          "output_type": "stream",
          "name": "stdout",
          "text": [
            "Quad: [[1.0, 2.4492935982947064e-16], [-2.4492935982947064e-16, 1.0]]\n",
            "quad: [[1.0, 2.4492935982947064e-16], [-2.4492935982947064e-16, 1.0]]\n"
          ]
        }
      ],
      "source": [
        "#4-2\n",
        "import math\n",
        "angle = 90\n",
        "\n",
        "\n",
        "rotation_math = [[math.cos(math.radians(angle)), -math.sin(math.radians(angle))], [math.sin(math.radians(angle)), math.cos(math.radians(angle))]]\n",
        "\n",
        "Double = [[0 for j in range(len(rotation_math[0]))] for i in range(len(rotation_math))]\n",
        "for i in range(len(rotation_math)):\n",
        "    for j in range(len(rotation_math[0])):\n",
        "        for k in range(len(rotation_math[0])):\n",
        "            Double[i][j] += rotation_math[i][k] * rotation_math[k][j]\n",
        "\n",
        "Quad = [[0 for j in range(len(Double[0]))] for i in range(len(Double))]\n",
        "for i in range(len(Double)):\n",
        "    for j in range(len(Double[0])):\n",
        "        for k in range(len(Double[0])):\n",
        "            Quad[i][j] += Double[i][k] * Double[k][j]\n",
        "print(\"Quad:\", Quad)\n",
        "\n",
        "quad = [[math.cos(math.radians(angle*4)), -math.sin(math.radians(angle*4))], [math.sin(math.radians(angle*4)), math.cos(math.radians(angle*4))]]\n",
        "print(\"quad:\", quad)\n"
      ]
    }
  ],
  "metadata": {
    "kernelspec": {
      "display_name": "Python 3",
      "language": "python",
      "name": "python3"
    },
    "language_info": {
      "codemirror_mode": {
        "name": "ipython",
        "version": 3
      },
      "file_extension": ".py",
      "mimetype": "text/x-python",
      "name": "python",
      "nbconvert_exporter": "python",
      "pygments_lexer": "ipython3",
      "version": "3.11.2"
    },
    "orig_nbformat": 4,
    "colab": {
      "provenance": []
    }
  },
  "nbformat": 4,
  "nbformat_minor": 0
}